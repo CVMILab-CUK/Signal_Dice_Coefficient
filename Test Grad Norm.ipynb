{
 "cells": [
  {
   "cell_type": "code",
   "execution_count": 1,
   "id": "90e204f8-c5ba-49f2-935b-adf85243c30b",
   "metadata": {},
   "outputs": [],
   "source": [
    "import numpy as np\n",
    "import torch\n",
    "import matplotlib.pyplot as plt\n",
    "from libs.losses import  l2, SignalDiceLoss"
   ]
  },
  {
   "cell_type": "code",
   "execution_count": 2,
   "id": "ead6dae8-74b3-4e86-86ff-12eda78b45fb",
   "metadata": {},
   "outputs": [],
   "source": [
    "sampling_rate = 1000\n",
    "sdsc   = SignalDiceLoss(eps=0, soft=False)\n",
    "sdsc_1 = SignalDiceLoss(eps=0, alpha=1)\n",
    "sdsc_10 = SignalDiceLoss(eps=0, alpha=10)\n",
    "sdsc_100 = SignalDiceLoss(eps=0, alpha=100)"
   ]
  },
  {
   "cell_type": "code",
   "execution_count": 3,
   "id": "9d0ed6e3-01df-4b78-996f-fa842e2cb816",
   "metadata": {},
   "outputs": [],
   "source": [
    "def mse(a, b):\n",
    "    return torch.mean((a-b)**2)\n",
    "\n",
    "def mae(a, b):\n",
    "    return torch.mean(torch.abs(a-b))\n",
    "\n",
    "def dtw_distance_normalized(s1, s2):\n",
    "    n, m = len(s1), len(s2)\n",
    "    dtw_matrix = np.full((n + 1, m + 1), np.inf)\n",
    "    dtw_matrix[0, 0] = 0\n",
    "\n",
    "    for i in range(1, n + 1):\n",
    "        for j in range(1, m + 1):\n",
    "            cost = abs(s1[i - 1] - s2[j - 1])\n",
    "            dtw_matrix[i, j] = cost + min(\n",
    "                dtw_matrix[i - 1, j],    # insertion\n",
    "                dtw_matrix[i, j - 1],    # deletion\n",
    "                dtw_matrix[i - 1, j - 1] # match\n",
    "            )\n",
    "\n",
    "    # Traceback to count the path length\n",
    "    i, j = n, m\n",
    "    path_length = 0\n",
    "    while i > 0 and j > 0:\n",
    "        path_length += 1\n",
    "        min_idx = np.argmin([\n",
    "            dtw_matrix[i-1, j-1],\n",
    "            dtw_matrix[i-1, j],\n",
    "            dtw_matrix[i, j-1]\n",
    "        ])\n",
    "        if min_idx == 0:\n",
    "            i -= 1\n",
    "            j -= 1\n",
    "        elif min_idx == 1:\n",
    "            i -= 1\n",
    "        else:\n",
    "            j -= 1\n",
    "    path_length += (i + j)  # finish remaining steps\n",
    "\n",
    "    return dtw_matrix[n, m] / path_length\n",
    "    \n",
    "def make_signals(sampling_rate, noise_level=0.3, shift=1, scale_factor=0.5):\n",
    "    t = torch.linspace(0,2*np.pi, sampling_rate) \n",
    "    gt = torch.sin(t).clone().detach().requires_grad_(True)\n",
    "    signals = {\n",
    "        \"t\" : t,\n",
    "        \"gt\" : gt,\n",
    "        \"inverted\": -gt,\n",
    "        \"scaled\" :scale_factor * gt,\n",
    "        \"shift\"  :gt+shift,\n",
    "        \"noisy\":gt + noise_level * torch.randn(sampling_rate),\n",
    "        \"jittered\":(gt + 0.05 * torch.randn_like(gt)),\n",
    "    }\n",
    "    return signals\n",
    "\n",
    "\n",
    "def compute_grad_norm(loss_func, x, y):\n",
    "    y = y.clone().detach().requires_grad_(True)\n",
    "    loss = loss_func(x, y)\n",
    "    loss.backward(retain_graph=True)\n",
    "    return y.grad.norm().item()\n",
    "\n",
    "def print_grad_norm(x, y):\n",
    "    print(\"MSE : \",compute_grad_norm(mse, x, y))\n",
    "    print(\"MAE : \",compute_grad_norm(mae,  x, y))\n",
    "    print(\"SDSC LOSS :\",compute_grad_norm(sdsc,  x, y))\n",
    "    print(\"SDSC Alpha 1 LOSS :\",compute_grad_norm(sdsc_1,  x, y))\n",
    "    print(\"SDSC Alpha 10 LOSS :\",compute_grad_norm(sdsc_10,  x, y))\n",
    "    print(\"SDSC Alpha 100 LOSS :\",compute_grad_norm(sdsc_100,  x, y))"
   ]
  },
  {
   "cell_type": "code",
   "execution_count": 4,
   "id": "ece53d76-899d-43c8-8a7b-f0b4e295a84a",
   "metadata": {},
   "outputs": [],
   "source": [
    "signal = make_signals(sampling_rate)"
   ]
  },
  {
   "cell_type": "markdown",
   "id": "be88d7eb-d2d8-4bde-b32e-cec1c782f6fb",
   "metadata": {},
   "source": [
    "# Inverted"
   ]
  },
  {
   "cell_type": "code",
   "execution_count": 5,
   "id": "37c2f9f4-0466-4cd7-b86e-8140d83c464c",
   "metadata": {},
   "outputs": [
    {
     "name": "stdout",
     "output_type": "stream",
     "text": [
      "MSE :  0.08939799666404724\n",
      "MAE :  0.03160696476697922\n",
      "SDSC LOSS : 0.0\n",
      "SDSC Alpha 1 LOSS : 0.009130844846367836\n",
      "SDSC Alpha 10 LOSS : 0.00824382621794939\n",
      "SDSC Alpha 100 LOSS : 0.004718021955341101\n"
     ]
    }
   ],
   "source": [
    "print_grad_norm(signal[\"gt\"], signal[\"inverted\"])"
   ]
  },
  {
   "cell_type": "code",
   "execution_count": 6,
   "id": "8f74b580-20e5-4715-b563-dcb45e1c887a",
   "metadata": {},
   "outputs": [
    {
     "name": "stdout",
     "output_type": "stream",
     "text": [
      "MSE :  0.02234949916601181\n",
      "MAE :  0.03160696476697922\n",
      "SDSC LOSS : 0.04417587071657181\n",
      "SDSC Alpha 1 LOSS : 0.028901392593979836\n",
      "SDSC Alpha 10 LOSS : 0.043713416904211044\n",
      "SDSC Alpha 100 LOSS : 0.04336824640631676\n"
     ]
    }
   ],
   "source": [
    "print_grad_norm(signal[\"gt\"], signal[\"scaled\"])"
   ]
  },
  {
   "cell_type": "code",
   "execution_count": 14,
   "id": "1f920f03-c914-4caf-9f9f-66d2cd64f0a6",
   "metadata": {},
   "outputs": [
    {
     "name": "stdout",
     "output_type": "stream",
     "text": [
      "MSE :  0.04469899833202362\n",
      "MAE :  0.03160696476697922\n",
      "SDSC LOSS : 0.011043967679142952\n",
      "SDSC Alpha 1 LOSS : 0.006246507633477449\n",
      "SDSC Alpha 10 LOSS : 0.010244142264127731\n",
      "SDSC Alpha 100 LOSS : 0.010846496559679508\n"
     ]
    }
   ],
   "source": [
    "print_grad_norm(signal[\"gt\"], signal[\"gt\"]*2)"
   ]
  },
  {
   "cell_type": "code",
   "execution_count": 8,
   "id": "c22134eb-5c05-438a-a9e8-3a870e958262",
   "metadata": {},
   "outputs": [
    {
     "name": "stdout",
     "output_type": "stream",
     "text": [
      "MSE :  0.00028113272855989635\n",
      "MAE :  0.03162277862429619\n",
      "SDSC LOSS : 0.024848824366927147\n",
      "SDSC Alpha 1 LOSS : 0.017074046656489372\n",
      "SDSC Alpha 10 LOSS : 0.023008694872260094\n",
      "SDSC Alpha 100 LOSS : 0.02430911548435688\n"
     ]
    }
   ],
   "source": [
    "print_grad_norm(signal[\"gt\"], signal[\"gt\"].roll(1))"
   ]
  },
  {
   "cell_type": "markdown",
   "id": "33dc83f5-f670-476a-bff8-17b3171ecbfd",
   "metadata": {},
   "source": [
    "# Shifted"
   ]
  },
  {
   "cell_type": "code",
   "execution_count": 9,
   "id": "595280d3-2429-44cc-814a-9ade794e64de",
   "metadata": {},
   "outputs": [
    {
     "name": "stdout",
     "output_type": "stream",
     "text": [
      "MSE :  0.06324555724859238\n",
      "MAE :  0.03162277862429619\n",
      "SDSC LOSS : 0.007514291908591986\n",
      "SDSC Alpha 1 LOSS : 0.007416722364723682\n",
      "SDSC Alpha 10 LOSS : 0.008759652264416218\n",
      "SDSC Alpha 100 LOSS : 0.007695657666772604\n"
     ]
    }
   ],
   "source": [
    "print_grad_norm(signal[\"gt\"], signal[\"shift\"])"
   ]
  },
  {
   "cell_type": "code",
   "execution_count": 10,
   "id": "8478ed77-70af-4487-a770-fa010e9c29cd",
   "metadata": {},
   "outputs": [
    {
     "name": "stdout",
     "output_type": "stream",
     "text": [
      "MSE :  0.06324555724859238\n",
      "MAE :  0.03162277862429619\n",
      "SDSC LOSS : 0.007514291908591986\n",
      "SDSC Alpha 1 LOSS : 0.007416720502078533\n",
      "SDSC Alpha 10 LOSS : 0.008759652264416218\n",
      "SDSC Alpha 100 LOSS : 0.007695657666772604\n"
     ]
    }
   ],
   "source": [
    "print_grad_norm(signal[\"gt\"], signal[\"shift\"]-2)"
   ]
  },
  {
   "cell_type": "code",
   "execution_count": 11,
   "id": "b72298d2-6673-4326-be80-f232bb991e4e",
   "metadata": {},
   "outputs": [
    {
     "name": "stdout",
     "output_type": "stream",
     "text": [
      "MSE :  0.019361242651939392\n",
      "MAE :  0.03162277862429619\n",
      "SDSC LOSS : 0.023788530379533768\n",
      "SDSC Alpha 1 LOSS : 0.015233566984534264\n",
      "SDSC Alpha 10 LOSS : 0.02279873937368393\n",
      "SDSC Alpha 100 LOSS : 0.023698238655924797\n"
     ]
    }
   ],
   "source": [
    "print_grad_norm(signal[\"gt\"], signal[\"noisy\"])"
   ]
  },
  {
   "cell_type": "code",
   "execution_count": 13,
   "id": "7b24dabf-43fd-4870-af72-d3605877cc95",
   "metadata": {},
   "outputs": [
    {
     "name": "stdout",
     "output_type": "stream",
     "text": [
      "MSE :  0.04469899833202362\n",
      "MAE :  0.03160696476697922\n",
      "SDSC LOSS : 0.0\n",
      "SDSC Alpha 1 LOSS : 0.0\n",
      "SDSC Alpha 10 LOSS : 0.0\n",
      "SDSC Alpha 100 LOSS : 0.0\n"
     ]
    }
   ],
   "source": [
    "print_grad_norm(signal[\"gt\"], torch.zeros_like(signal['gt']))"
   ]
  },
  {
   "cell_type": "markdown",
   "id": "6469b80f-2f8c-499c-9589-159d5cc1ee37",
   "metadata": {},
   "source": [
    "# Jittered"
   ]
  },
  {
   "cell_type": "code",
   "execution_count": 12,
   "id": "7afcd4c6-e6a4-4751-a80e-159308549bef",
   "metadata": {},
   "outputs": [
    {
     "name": "stdout",
     "output_type": "stream",
     "text": [
      "MSE :  0.0032219982240349054\n",
      "MAE :  0.03162277862429619\n",
      "SDSC LOSS : 0.02475747838616371\n",
      "SDSC Alpha 1 LOSS : 0.016573229804635048\n",
      "SDSC Alpha 10 LOSS : 0.02287229709327221\n",
      "SDSC Alpha 100 LOSS : 0.024257011711597443\n"
     ]
    }
   ],
   "source": [
    "print_grad_norm(signal[\"gt\"], signal[\"jittered\"])"
   ]
  }
 ],
 "metadata": {
  "kernelspec": {
   "display_name": "Python 3 (ipykernel)",
   "language": "python",
   "name": "python3"
  },
  "language_info": {
   "codemirror_mode": {
    "name": "ipython",
    "version": 3
   },
   "file_extension": ".py",
   "mimetype": "text/x-python",
   "name": "python",
   "nbconvert_exporter": "python",
   "pygments_lexer": "ipython3",
   "version": "3.10.16"
  }
 },
 "nbformat": 4,
 "nbformat_minor": 5
}
