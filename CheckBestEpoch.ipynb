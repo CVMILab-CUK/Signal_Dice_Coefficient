{
 "cells": [
  {
   "cell_type": "code",
   "execution_count": 1,
   "id": "81b4c053-9774-4808-a019-a69244ce653f",
   "metadata": {},
   "outputs": [],
   "source": [
    "import os\n",
    "import torch"
   ]
  },
  {
   "cell_type": "code",
   "execution_count": 2,
   "id": "cd2035cc-ec5e-4a15-871a-6637ed7a9113",
   "metadata": {},
   "outputs": [],
   "source": [
    "task = \"SimMTM_Forecasting\"\n",
    "name = \"ETTm2\"\n",
    "loss_name = [\"MSE\", \"SDSC\", \"Hybrid\"]\n",
    "# path = os.path.join(\"SimMTM_Forecasting\",\"outputs\",\"pretrain_checkpoints\", name, loss_name, \"ckpt_best.pth\")\n",
    "# state_dict = torch.load(path)\n",
    "# print(state_dict['epoch'])"
   ]
  },
  {
   "cell_type": "code",
   "execution_count": 3,
   "id": "36a89725-bffd-4f96-b49b-ae6042f2a45b",
   "metadata": {},
   "outputs": [
    {
     "name": "stdout",
     "output_type": "stream",
     "text": [
      "SimMTM_Forecasting...\n",
      "ETTm2 datasets...\n",
      "MSE LOSS : 45 epochs\n",
      "SDSC LOSS : 29 epochs\n",
      "Hybrid LOSS : 45 epochs\n"
     ]
    }
   ],
   "source": [
    "print(f\"{task}...\")\n",
    "print(f\"{name} datasets...\")\n",
    "for l in loss_name:\n",
    "    print(f\"{l} LOSS : \",end=\"\")\n",
    "    path = os.path.join(task,\"outputs\",\"pretrain_checkpoints\", name, l, \"ckpt_best.pth\")\n",
    "    state_dict = torch.load(path)\n",
    "    print(state_dict['epoch'], \"epochs\")"
   ]
  }
 ],
 "metadata": {
  "kernelspec": {
   "display_name": "Python 3 (ipykernel)",
   "language": "python",
   "name": "python3"
  },
  "language_info": {
   "codemirror_mode": {
    "name": "ipython",
    "version": 3
   },
   "file_extension": ".py",
   "mimetype": "text/x-python",
   "name": "python",
   "nbconvert_exporter": "python",
   "pygments_lexer": "ipython3",
   "version": "3.10.16"
  }
 },
 "nbformat": 4,
 "nbformat_minor": 5
}
